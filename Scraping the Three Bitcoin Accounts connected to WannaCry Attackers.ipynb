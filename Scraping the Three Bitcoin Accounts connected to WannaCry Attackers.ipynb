{
 "cells": [
  {
   "cell_type": "markdown",
   "metadata": {},
   "source": [
    "## Which are the Bitcoin Accounts we are looking at?\n",
    "[Account 1](https://blockchain.info/address/115p7UMMngoj1pMvkpHijcRdfJNXj6LrLn)\n",
    "[Account 2](https://blockchain.info/address/12t9YDPgwueZ9NyMgw519p7AA8isjr6SMw)\n",
    "[Account 3](https://blockchain.info/address/13AM4VW2dhxYgXeQepoHkHSQuy6NgaEb94)"
   ]
  },
  {
   "cell_type": "markdown",
   "metadata": {},
   "source": [
    "### Structure of URLs"
   ]
  },
  {
   "cell_type": "markdown",
   "metadata": {},
   "source": [
    "The following needs to be added to "
   ]
  },
  {
   "cell_type": "code",
   "execution_count": 1,
   "metadata": {
    "collapsed": false
   },
   "outputs": [
    {
     "data": {
      "text/plain": [
       "'?offset=150&filter=6'"
      ]
     },
     "execution_count": 1,
     "metadata": {},
     "output_type": "execute_result"
    }
   ],
   "source": [
    "\"?offset=0&filter=6\" # for first 50\n",
    "\"?offset=50&filter=6\"# for second 50\n",
    "\"?offset=100&filter=6\"\n",
    "\"?offset=150&filter=6\"\n",
    "#etc. etc."
   ]
  },
  {
   "cell_type": "markdown",
   "metadata": {},
   "source": [
    "### Imports"
   ]
  },
  {
   "cell_type": "code",
   "execution_count": 2,
   "metadata": {
    "collapsed": false
   },
   "outputs": [],
   "source": [
    "import requests\n",
    "from bs4 import BeautifulSoup"
   ]
  },
  {
   "cell_type": "markdown",
   "metadata": {},
   "source": [
    "### Getting the HTML code"
   ]
  },
  {
   "cell_type": "code",
   "execution_count": 3,
   "metadata": {
    "collapsed": false
   },
   "outputs": [],
   "source": [
    "url = \"https://blockchain.info/address/115p7UMMngoj1pMvkpHijcRdfJNXj6LrLn\"\n",
    "response = requests.get(url)\n",
    "bitcoin_soup = BeautifulSoup(response.text, 'html.parser')"
   ]
  },
  {
   "cell_type": "code",
   "execution_count": 4,
   "metadata": {
    "collapsed": false
   },
   "outputs": [],
   "source": [
    "alltransactions = bitcoin_soup.find('div', {'id':'tx_container'})\n",
    "list_of_transactions = alltransactions.find_all('div')"
   ]
  },
  {
   "cell_type": "code",
   "execution_count": 5,
   "metadata": {
    "collapsed": true
   },
   "outputs": [],
   "source": [
    "url1 = \"https://blockchain.info/address/115p7UMMngoj1pMvkpHijcRdfJNXj6LrLn\"\n",
    "url2 = \"https://blockchain.info/address/12t9YDPgwueZ9NyMgw519p7AA8isjr6SMw\"\n",
    "url3 = \"https://blockchain.info/address/13AM4VW2dhxYgXeQepoHkHSQuy6NgaEb94\""
   ]
  },
  {
   "cell_type": "code",
   "execution_count": 6,
   "metadata": {
    "collapsed": true
   },
   "outputs": [],
   "source": [
    "url_list = [url1, url2, url3]"
   ]
  },
  {
   "cell_type": "code",
   "execution_count": 7,
   "metadata": {
    "collapsed": true
   },
   "outputs": [],
   "source": [
    "extras_list = [\"\", \"?offset=50&filter=6\", \"?offset=100&filter=6\"]"
   ]
  },
  {
   "cell_type": "markdown",
   "metadata": {},
   "source": [
    "### Iterating through all the relevant URLs"
   ]
  },
  {
   "cell_type": "code",
   "execution_count": 8,
   "metadata": {
    "collapsed": false
   },
   "outputs": [],
   "source": [
    "list_of_payments = []\n",
    "\n",
    "for url in url_list:\n",
    "    \n",
    "    for extra in extras_list:\n",
    "        \n",
    "        url = url + extra\n",
    "        response = requests.get(url)\n",
    "        bitcoin_soup = BeautifulSoup(response.text, 'html.parser')\n",
    "        \n",
    "        try:\n",
    "            alltransactions = bitcoin_soup.find('div', {'id':'tx_container'})\n",
    "            list_of_transactions = alltransactions.find_all('div')\n",
    "    \n",
    "\n",
    "            for elem in list_of_transactions:\n",
    "    \n",
    "                try:\n",
    "                    date = elem.find('span', {'class': 'pull-right'}).text\n",
    "                    list_of_accounts = elem.find('td', {'width': '500px'}).find_all('a')\n",
    "                    amount = float(elem.find('span', {'class': 'pull-right hidden-phone'}).find('span').text.replace(' BTC', ''))\n",
    "    \n",
    "                    mini_dict = {'Datum': date, \n",
    "                         'Kontenlisten': list_of_accounts,\n",
    "                         'Betrag': amount}\n",
    "    \n",
    "                    list_of_payments.append(mini_dict)\n",
    "                except:\n",
    "                    None\n",
    "        except:\n",
    "            None"
   ]
  }
 ],
 "metadata": {
  "kernelspec": {
   "display_name": "Python 3",
   "language": "python",
   "name": "python3"
  },
  "language_info": {
   "codemirror_mode": {
    "name": "ipython",
    "version": 3
   },
   "file_extension": ".py",
   "mimetype": "text/x-python",
   "name": "python",
   "nbconvert_exporter": "python",
   "pygments_lexer": "ipython3",
   "version": "3.5.1"
  }
 },
 "nbformat": 4,
 "nbformat_minor": 0
}
